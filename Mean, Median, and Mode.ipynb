{
 "cells": [
  {
   "cell_type": "code",
   "execution_count": 12,
   "id": "5a32dac9-3a52-4624-8c18-d9d129bcad4e",
   "metadata": {},
   "outputs": [
    {
     "data": {
      "text/html": [
       "\n",
       "<script\n",
       "    src=\"https://cdnjs.cloudflare.com/ajax/libs/jquery/2.0.3/jquery.min.js \">\n",
       "</script>\n",
       "<script>\n",
       "code_show=true; \n",
       "function code_toggle() {\n",
       " if (code_show){\n",
       " $('div.jp-CodeCell > div.jp-Cell-inputWrapper').hide();\n",
       " } else {\n",
       "$('div.jp-CodeCell > div.jp-Cell-inputWrapper').show();\n",
       " }\n",
       " code_show = !code_show\n",
       "} \n",
       "$( document ).ready(code_toggle);\n",
       "</script>\n",
       "<form action=\"javascript:code_toggle()\"><input type=\"submit\"\n",
       "    value=\"Click here to toggle on/off the raw code.\"></form>\n"
      ],
      "text/plain": [
       "<IPython.core.display.HTML object>"
      ]
     },
     "execution_count": 12,
     "metadata": {},
     "output_type": "execute_result"
    }
   ],
   "source": [
    "import pandas as pd\n",
    "import numpy as np\n",
    "\n",
    "from IPython.display import HTML\n",
    "HTML('''\n",
    "<script\n",
    "    src=\"https://cdnjs.cloudflare.com/ajax/libs/jquery/2.0.3/jquery.min.js \">\n",
    "</script>\n",
    "<script>\n",
    "code_show=true; \n",
    "function code_toggle() {\n",
    " if (code_show){\n",
    " $('div.jp-CodeCell > div.jp-Cell-inputWrapper').hide();\n",
    " } else {\n",
    "$('div.jp-CodeCell > div.jp-Cell-inputWrapper').show();\n",
    " }\n",
    " code_show = !code_show\n",
    "} \n",
    "$( document ).ready(code_toggle);\n",
    "</script>\n",
    "<form action=\"javascript:code_toggle()\"><input type=\"submit\"\n",
    "    value=\"Click here to toggle on/off the raw code.\"></form>\n",
    "''')"
   ]
  },
  {
   "cell_type": "markdown",
   "id": "fa9d4da5-4a94-433b-87fa-cb0864958750",
   "metadata": {},
   "source": [
    "<h1 style=\"text-align:center;\">Understanding and Predicting Taxi Fare Trends</h1>\n",
    "<hr>\n",
    "\n",
    "<a name=\"top\"></a>\n",
    "#### This is a Sample of Table of Contents:\n",
    "\n",
    "[ref0]: #measures_of_cent_tend\n",
    "- [Measures of Central Tendency][ref0]\n",
    "\n",
    "[ref2]: #dat_prep\n",
    "- [Data Preprocessing][ref2]\n",
    "\n",
    "[ref3]: #mean\n",
    "- [Calculating Mean and Median][ref3]\n",
    "  \n",
    "[ref4]: #mode\n",
    "- [Calculating Mode][ref4]\n",
    "\n",
    "[ref5]: #boxplot\n",
    "- [Boxplot][ref5]\n",
    "\n",
    "[ref6]: #exer\n",
    "- [Exercise][ref6]\n",
    "\n",
    "***"
   ]
  },
  {
   "cell_type": "markdown",
   "id": "da84d593-36e4-48d9-b724-1af74fb7e28b",
   "metadata": {},
   "source": [
    "<a name=\"measures_of_cent_tend\"></a>\n",
    "## Measures of Central Tendency\n",
    "***\n",
    "Mathematically central tendency means measuring the center or distribution of location of values of a data set. It gives an idea of the average value of the data in the data set and also an indication of how widely the values are spread in the data set. That in turn helps in evaluating the chances of a new input fitting into the existing data set and hence probability of success.\n",
    "\n",
    "There are three main measures of central tendency which can be calculated using the methods in pandas python library.\n",
    "\n",
    "Mean - It is the Average value of the data which is a division of sum of the values with the number of values.\n",
    "\n",
    "Median - It is the middle value in distribution when the values are arranged in ascending or descending order.\n",
    "\n",
    "Mode - It is the most commonly occurring value in a distribution.\n",
    "\n",
    "[ref]: #top\n",
    "[Back to Table of Contents][ref]"
   ]
  },
  {
   "cell_type": "markdown",
   "id": "b8894385-7964-431d-9d91-f3dd35a9b638",
   "metadata": {},
   "source": [
    "## Data Importing and Analyzing"
   ]
  },
  {
   "cell_type": "code",
   "execution_count": 19,
   "id": "e312dce1-be13-4472-bffb-72a1aaf1a2e5",
   "metadata": {},
   "outputs": [],
   "source": [
    "d = {'Name':pd.Series(['Tito','Vic','Joey','Jose','Wally','Paolo','Ryan',\n",
    "   'Allan','Ruru','Ryza','Carren','Bianca']),\n",
    "   'Age':pd.Series([25,26,25,23,30,29,23,34,40,30,51,46]),\n",
    "   'Rating':pd.Series([4.23,3.24,3.98,2.56,3.20,4.6,3.8,3.78,2.98,4.80,4.10,3.65])}"
   ]
  },
  {
   "cell_type": "markdown",
   "id": "c6bd4729",
   "metadata": {},
   "source": [
    "[ref]: #top\n",
    "[Back to Table of Contents][ref]"
   ]
  },
  {
   "cell_type": "markdown",
   "id": "d5a4909f-e591-4b52-afe7-eadfcb741d71",
   "metadata": {},
   "source": [
    "<a name=\"dat_prep\"></a>\n",
    "## Data Preprocessing\n",
    "***\n"
   ]
  },
  {
   "cell_type": "code",
   "execution_count": 20,
   "id": "1e9b5809-bd41-4524-89be-0431ba42d88a",
   "metadata": {},
   "outputs": [
    {
     "data": {
      "text/html": [
       "<div>\n",
       "<style scoped>\n",
       "    .dataframe tbody tr th:only-of-type {\n",
       "        vertical-align: middle;\n",
       "    }\n",
       "\n",
       "    .dataframe tbody tr th {\n",
       "        vertical-align: top;\n",
       "    }\n",
       "\n",
       "    .dataframe thead th {\n",
       "        text-align: right;\n",
       "    }\n",
       "</style>\n",
       "<table border=\"1\" class=\"dataframe\">\n",
       "  <thead>\n",
       "    <tr style=\"text-align: right;\">\n",
       "      <th></th>\n",
       "      <th>Name</th>\n",
       "      <th>Age</th>\n",
       "      <th>Rating</th>\n",
       "    </tr>\n",
       "  </thead>\n",
       "  <tbody>\n",
       "    <tr>\n",
       "      <th>0</th>\n",
       "      <td>Tito</td>\n",
       "      <td>25</td>\n",
       "      <td>4.23</td>\n",
       "    </tr>\n",
       "    <tr>\n",
       "      <th>1</th>\n",
       "      <td>Vic</td>\n",
       "      <td>26</td>\n",
       "      <td>3.24</td>\n",
       "    </tr>\n",
       "    <tr>\n",
       "      <th>2</th>\n",
       "      <td>Joey</td>\n",
       "      <td>25</td>\n",
       "      <td>3.98</td>\n",
       "    </tr>\n",
       "    <tr>\n",
       "      <th>3</th>\n",
       "      <td>Jose</td>\n",
       "      <td>23</td>\n",
       "      <td>2.56</td>\n",
       "    </tr>\n",
       "    <tr>\n",
       "      <th>4</th>\n",
       "      <td>Wally</td>\n",
       "      <td>30</td>\n",
       "      <td>3.20</td>\n",
       "    </tr>\n",
       "    <tr>\n",
       "      <th>5</th>\n",
       "      <td>Paolo</td>\n",
       "      <td>29</td>\n",
       "      <td>4.60</td>\n",
       "    </tr>\n",
       "    <tr>\n",
       "      <th>6</th>\n",
       "      <td>Ryan</td>\n",
       "      <td>23</td>\n",
       "      <td>3.80</td>\n",
       "    </tr>\n",
       "    <tr>\n",
       "      <th>7</th>\n",
       "      <td>Allan</td>\n",
       "      <td>34</td>\n",
       "      <td>3.78</td>\n",
       "    </tr>\n",
       "    <tr>\n",
       "      <th>8</th>\n",
       "      <td>Ruru</td>\n",
       "      <td>40</td>\n",
       "      <td>2.98</td>\n",
       "    </tr>\n",
       "    <tr>\n",
       "      <th>9</th>\n",
       "      <td>Ryza</td>\n",
       "      <td>30</td>\n",
       "      <td>4.80</td>\n",
       "    </tr>\n",
       "    <tr>\n",
       "      <th>10</th>\n",
       "      <td>Carren</td>\n",
       "      <td>51</td>\n",
       "      <td>4.10</td>\n",
       "    </tr>\n",
       "    <tr>\n",
       "      <th>11</th>\n",
       "      <td>Bianca</td>\n",
       "      <td>46</td>\n",
       "      <td>3.65</td>\n",
       "    </tr>\n",
       "  </tbody>\n",
       "</table>\n",
       "</div>"
      ],
      "text/plain": [
       "      Name  Age  Rating\n",
       "0     Tito   25    4.23\n",
       "1      Vic   26    3.24\n",
       "2     Joey   25    3.98\n",
       "3     Jose   23    2.56\n",
       "4    Wally   30    3.20\n",
       "5    Paolo   29    4.60\n",
       "6     Ryan   23    3.80\n",
       "7    Allan   34    3.78\n",
       "8     Ruru   40    2.98\n",
       "9     Ryza   30    4.80\n",
       "10  Carren   51    4.10\n",
       "11  Bianca   46    3.65"
      ]
     },
     "execution_count": 20,
     "metadata": {},
     "output_type": "execute_result"
    }
   ],
   "source": [
    "df = pd.DataFrame(d)\n",
    "df"
   ]
  },
  {
   "cell_type": "markdown",
   "id": "384f1774",
   "metadata": {},
   "source": [
    "[ref]: #top\n",
    "[Back to Table of Contents][ref]"
   ]
  },
  {
   "cell_type": "markdown",
   "id": "d096f7d2-3d98-49b1-a487-dd44b5a5c098",
   "metadata": {},
   "source": [
    "<a name=\"mean\"></a>\n",
    "## Calculating Mean and Median\n",
    "***\n",
    "\n",
    "\n",
    "\n"
   ]
  },
  {
   "cell_type": "code",
   "execution_count": 9,
   "id": "b4b79dfc",
   "metadata": {},
   "outputs": [
    {
     "name": "stdout",
     "output_type": "stream",
     "text": [
      "Mean Values in the Distribution\n",
      "Age       31.833333\n",
      "Rating     3.743333\n",
      "dtype: float64\n",
      "*******************************\n",
      "Median Values in the Distribution\n",
      "Age       29.50\n",
      "Rating     3.79\n",
      "dtype: float64\n"
     ]
    },
    {
     "name": "stderr",
     "output_type": "stream",
     "text": [
      "C:\\Users\\Nathalya Peralta\\AppData\\Local\\Temp\\ipykernel_2840\\433900040.py:2: FutureWarning: Dropping of nuisance columns in DataFrame reductions (with 'numeric_only=None') is deprecated; in a future version this will raise TypeError.  Select only valid columns before calling the reduction.\n",
      "  print(df.mean())\n",
      "C:\\Users\\Nathalya Peralta\\AppData\\Local\\Temp\\ipykernel_2840\\433900040.py:5: FutureWarning: Dropping of nuisance columns in DataFrame reductions (with 'numeric_only=None') is deprecated; in a future version this will raise TypeError.  Select only valid columns before calling the reduction.\n",
      "  print(df.median())\n"
     ]
    }
   ],
   "source": [
    "print(\"Mean Values in the Distribution\")\n",
    "print(df.mean())\n",
    "print(\"*******************************\")\n",
    "print(\"Median Values in the Distribution\")\n",
    "print(df.median())"
   ]
  },
  {
   "cell_type": "markdown",
   "id": "9acdb00c-331e-4e6c-8fc3-8c7a0cbde2c8",
   "metadata": {},
   "source": [
    "<a name=\"mode\"></a>\n",
    "## Calculating Mode\n",
    "***\n",
    "\n"
   ]
  },
  {
   "cell_type": "code",
   "execution_count": 10,
   "id": "65faa205-9d8d-47b5-9a2d-a6086fbd5f28",
   "metadata": {},
   "outputs": [
    {
     "name": "stdout",
     "output_type": "stream",
     "text": [
      "      Name   Age  Rating\n",
      "0    Allan  23.0    2.56\n",
      "1   Bianca  25.0    2.98\n",
      "2   Carren  30.0    3.20\n",
      "3     Joey   NaN    3.24\n",
      "4     Jose   NaN    3.65\n",
      "5    Paolo   NaN    3.78\n",
      "6     Ruru   NaN    3.80\n",
      "7     Ryan   NaN    3.98\n",
      "8     Ryza   NaN    4.10\n",
      "9     Tito   NaN    4.23\n",
      "10     Vic   NaN    4.60\n",
      "11   Wally   NaN    4.80\n"
     ]
    }
   ],
   "source": [
    "print(df.mode())"
   ]
  },
  {
   "cell_type": "markdown",
   "id": "a86807c1",
   "metadata": {},
   "source": [
    "[ref]: #top\n",
    "[Back to Table of Contents][ref]"
   ]
  },
  {
   "cell_type": "markdown",
   "id": "b5120e72-c637-41e7-adec-924e88a1a02f",
   "metadata": {},
   "source": [
    "<a name=\"boxplot\"></a>\n",
    "## Boxplot\n",
    "***\n"
   ]
  },
  {
   "cell_type": "code",
   "execution_count": 11,
   "id": "bec3be47",
   "metadata": {},
   "outputs": [
    {
     "data": {
      "text/plain": [
       "<AxesSubplot:>"
      ]
     },
     "execution_count": 11,
     "metadata": {},
     "output_type": "execute_result"
    },
    {
     "data": {
      "image/png": "[encoded data removed]",
      "text/plain": [
       "<Figure size 640x480 with 1 Axes>"
      ]
     },
     "metadata": {},
     "output_type": "display_data"
    }
   ],
   "source": [
    "df.plot.box(grid='True')"
   ]
  },
  {
   "cell_type": "markdown",
   "id": "55c62a77",
   "metadata": {},
   "source": [
    "[ref]: #top\n",
    "[Back to Table of Contents][ref]"
   ]
  },
  {
   "cell_type": "markdown",
   "id": "dbf825b9-9e49-4438-be77-57083a6b0bfc",
   "metadata": {},
   "source": [
    "<a name=\"exer\"></a>\n",
    "## Exercise\n",
    "***\n",
    "\n"
   ]
  },
  {
   "cell_type": "markdown",
   "id": "5d32e5e0",
   "metadata": {},
   "source": [
    "Generate a random date with 4 features using the commands below."
   ]
  },
  {
   "cell_type": "code",
   "execution_count": 22,
   "id": "346a1a2b",
   "metadata": {},
   "outputs": [
    {
     "data": {
      "text/html": [
       "<div>\n",
       "<style scoped>\n",
       "    .dataframe tbody tr th:only-of-type {\n",
       "        vertical-align: middle;\n",
       "    }\n",
       "\n",
       "    .dataframe tbody tr th {\n",
       "        vertical-align: top;\n",
       "    }\n",
       "\n",
       "    .dataframe thead th {\n",
       "        text-align: right;\n",
       "    }\n",
       "</style>\n",
       "<table border=\"1\" class=\"dataframe\">\n",
       "  <thead>\n",
       "    <tr style=\"text-align: right;\">\n",
       "      <th></th>\n",
       "      <th>A</th>\n",
       "      <th>B</th>\n",
       "      <th>C</th>\n",
       "      <th>D</th>\n",
       "      <th>E</th>\n",
       "    </tr>\n",
       "  </thead>\n",
       "  <tbody>\n",
       "    <tr>\n",
       "      <th>0</th>\n",
       "      <td>0.391221</td>\n",
       "      <td>0.934856</td>\n",
       "      <td>0.305846</td>\n",
       "      <td>0.527884</td>\n",
       "      <td>0.899286</td>\n",
       "    </tr>\n",
       "    <tr>\n",
       "      <th>1</th>\n",
       "      <td>0.619835</td>\n",
       "      <td>0.621876</td>\n",
       "      <td>0.876493</td>\n",
       "      <td>0.213854</td>\n",
       "      <td>0.644912</td>\n",
       "    </tr>\n",
       "    <tr>\n",
       "      <th>2</th>\n",
       "      <td>0.303118</td>\n",
       "      <td>0.836511</td>\n",
       "      <td>0.714993</td>\n",
       "      <td>0.251362</td>\n",
       "      <td>0.415735</td>\n",
       "    </tr>\n",
       "    <tr>\n",
       "      <th>3</th>\n",
       "      <td>0.560969</td>\n",
       "      <td>0.056028</td>\n",
       "      <td>0.762697</td>\n",
       "      <td>0.886870</td>\n",
       "      <td>0.345252</td>\n",
       "    </tr>\n",
       "    <tr>\n",
       "      <th>4</th>\n",
       "      <td>0.028774</td>\n",
       "      <td>0.058582</td>\n",
       "      <td>0.369746</td>\n",
       "      <td>0.806084</td>\n",
       "      <td>0.693505</td>\n",
       "    </tr>\n",
       "    <tr>\n",
       "      <th>5</th>\n",
       "      <td>0.279234</td>\n",
       "      <td>0.111490</td>\n",
       "      <td>0.298389</td>\n",
       "      <td>0.973571</td>\n",
       "      <td>0.087894</td>\n",
       "    </tr>\n",
       "    <tr>\n",
       "      <th>6</th>\n",
       "      <td>0.935064</td>\n",
       "      <td>0.284826</td>\n",
       "      <td>0.715556</td>\n",
       "      <td>0.210346</td>\n",
       "      <td>0.375201</td>\n",
       "    </tr>\n",
       "    <tr>\n",
       "      <th>7</th>\n",
       "      <td>0.609007</td>\n",
       "      <td>0.597988</td>\n",
       "      <td>0.448755</td>\n",
       "      <td>0.605648</td>\n",
       "      <td>0.852499</td>\n",
       "    </tr>\n",
       "    <tr>\n",
       "      <th>8</th>\n",
       "      <td>0.636000</td>\n",
       "      <td>0.893217</td>\n",
       "      <td>0.842033</td>\n",
       "      <td>0.914050</td>\n",
       "      <td>0.017323</td>\n",
       "    </tr>\n",
       "    <tr>\n",
       "      <th>9</th>\n",
       "      <td>0.561428</td>\n",
       "      <td>0.893151</td>\n",
       "      <td>0.404633</td>\n",
       "      <td>0.612969</td>\n",
       "      <td>0.598579</td>\n",
       "    </tr>\n",
       "  </tbody>\n",
       "</table>\n",
       "</div>"
      ],
      "text/plain": [
       "          A         B         C         D         E\n",
       "0  0.391221  0.934856  0.305846  0.527884  0.899286\n",
       "1  0.619835  0.621876  0.876493  0.213854  0.644912\n",
       "2  0.303118  0.836511  0.714993  0.251362  0.415735\n",
       "3  0.560969  0.056028  0.762697  0.886870  0.345252\n",
       "4  0.028774  0.058582  0.369746  0.806084  0.693505\n",
       "5  0.279234  0.111490  0.298389  0.973571  0.087894\n",
       "6  0.935064  0.284826  0.715556  0.210346  0.375201\n",
       "7  0.609007  0.597988  0.448755  0.605648  0.852499\n",
       "8  0.636000  0.893217  0.842033  0.914050  0.017323\n",
       "9  0.561428  0.893151  0.404633  0.612969  0.598579"
      ]
     },
     "execution_count": 22,
     "metadata": {},
     "output_type": "execute_result"
    }
   ],
   "source": [
    "df = pd.DataFrame(np.random.rand(10, 5), columns=['A', 'B', 'C', 'D', 'E'])\n",
    "df"
   ]
  },
  {
   "cell_type": "code",
   "execution_count": 23,
   "id": "2c5232d5",
   "metadata": {},
   "outputs": [
    {
     "name": "stdout",
     "output_type": "stream",
     "text": [
      "Mean Values in the Distribution\n",
      "A    0.492465\n",
      "B    0.528852\n",
      "C    0.573914\n",
      "D    0.600264\n",
      "E    0.493019\n",
      "dtype: float64\n",
      "*******************************\n",
      "Median Values in the Distribution\n",
      "A    0.561198\n",
      "B    0.609932\n",
      "C    0.581874\n",
      "D    0.609308\n",
      "E    0.507157\n",
      "dtype: float64\n"
     ]
    }
   ],
   "source": [
    "print(\"Mean Values in the Distribution\")\n",
    "print(df.mean())\n",
    "print(\"*******************************\")\n",
    "print(\"Median Values in the Distribution\")\n",
    "print(df.median())"
   ]
  },
  {
   "cell_type": "code",
   "execution_count": 24,
   "id": "ee7f9a05",
   "metadata": {},
   "outputs": [
    {
     "name": "stdout",
     "output_type": "stream",
     "text": [
      "          A         B         C         D         E\n",
      "0  0.028774  0.056028  0.298389  0.210346  0.017323\n",
      "1  0.279234  0.058582  0.305846  0.213854  0.087894\n",
      "2  0.303118  0.111490  0.369746  0.251362  0.345252\n",
      "3  0.391221  0.284826  0.404633  0.527884  0.375201\n",
      "4  0.560969  0.597988  0.448755  0.605648  0.415735\n",
      "5  0.561428  0.621876  0.714993  0.612969  0.598579\n",
      "6  0.609007  0.836511  0.715556  0.806084  0.644912\n",
      "7  0.619835  0.893151  0.762697  0.886870  0.693505\n",
      "8  0.636000  0.893217  0.842033  0.914050  0.852499\n",
      "9  0.935064  0.934856  0.876493  0.973571  0.899286\n"
     ]
    }
   ],
   "source": [
    "print(df.mode())"
   ]
  },
  {
   "cell_type": "code",
   "execution_count": 26,
   "id": "9beadb63",
   "metadata": {},
   "outputs": [
    {
     "data": {
      "text/plain": [
       "<AxesSubplot:>"
      ]
     },
     "execution_count": 26,
     "metadata": {},
     "output_type": "execute_result"
    },
    {
     "data": {
      "image/png": "[encoded data removed]",
      "text/plain": [
       "<Figure size 640x480 with 1 Axes>"
      ]
     },
     "metadata": {},
     "output_type": "display_data"
    }
   ],
   "source": [
    "df.plot.box(grid='True')"
   ]
  },
  {
   "cell_type": "markdown",
   "id": "df9a5f65",
   "metadata": {},
   "source": [
    "[ref]: #top\n",
    "[Back to Table of Contents][ref]"
   ]
  }
 ],
 "metadata": {
  "kernelspec": {
   "display_name": "Python 3 (ipykernel)",
   "language": "python",
   "name": "python3"
  },
  "language_info": {
   "codemirror_mode": {
    "name": "ipython",
    "version": 3
   },
   "file_extension": ".py",
   "mimetype": "text/x-python",
   "name": "python",
   "nbconvert_exporter": "python",
   "pygments_lexer": "ipython3",
   "version": "3.9.13"
  }
 },
 "nbformat": 4,
 "nbformat_minor": 5
}
